{
 "cells": [
  {
   "cell_type": "code",
   "execution_count": null,
   "id": "6e991bca-5155-4e6d-8b51-0b72b12d5a75",
   "metadata": {},
   "outputs": [],
   "source": [
    "import pandas as pd\n",
    "\n",
    "Read raw data\n",
    "df = pd.read_csv('sales_data.csv')\n",
    "\n",
    "Perform summary (example: total sales by region)\n",
    "summary = df.groupby('Region')['Sales'].sum().reset_index()\n",
    "\n",
    "Write to Excel\n",
    "with pd.ExcelWriter('sales_report.xlsx', engine='openpyxl') as writer:\n",
    "    df.to_excel(writer, index=False, sheet_name='Raw Data')\n",
    "    summary.to_excel(writer, index=False, sheet_name='Summary')"
   ]
  }
 ],
 "metadata": {
  "kernelspec": {
   "display_name": "Python 3 (ipykernel)",
   "language": "python",
   "name": "python3"
  },
  "language_info": {
   "codemirror_mode": {
    "name": "ipython",
    "version": 3
   },
   "file_extension": ".py",
   "mimetype": "text/x-python",
   "name": "python",
   "nbconvert_exporter": "python",
   "pygments_lexer": "ipython3",
   "version": "3.13.5"
  }
 },
 "nbformat": 4,
 "nbformat_minor": 5
}
